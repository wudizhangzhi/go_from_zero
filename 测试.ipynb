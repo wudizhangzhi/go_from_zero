{
 "cells": [
  {
   "cell_type": "code",
   "execution_count": 4,
   "metadata": {},
   "outputs": [],
   "source": [
    "import \"fmt\"\n",
    "\n",
    "month := []string{1:\"January\", 2:\"February\", 3:\"March\", 4:\"Apil\", 5:\"May\", 6: \"June\", 7:\"July\", 8:\"August\", 9:\"September\", 10:\"October\", 11:\"november\", 12:\"December\"}"
   ]
  },
  {
   "cell_type": "code",
   "execution_count": 8,
   "metadata": {},
   "outputs": [
    {
     "name": "stdout",
     "output_type": "stream",
     "text": [
      "[June July August] cap: 7  len: 3 \n",
      "[Apil May June] cap: 9  len: 3 \n"
     ]
    },
    {
     "data": {
      "text/plain": [
       "32 <nil>"
      ]
     },
     "execution_count": 8,
     "metadata": {},
     "output_type": "execute_result"
    }
   ],
   "source": [
    "summer := month[6:9]\n",
    "Q2 := month[4:7]\n",
    "\n",
    "fmt.Printf(\"%v cap: %d  len: %d \\n\", summer, cap(summer), len(summer))\n",
    "fmt.Printf(\"%v cap: %d  len: %d \\n\", Q2, cap(Q2), len(Q2))"
   ]
  },
  {
   "cell_type": "code",
   "execution_count": 9,
   "metadata": {},
   "outputs": [
    {
     "name": "stdout",
     "output_type": "stream",
     "text": [
      "[June July August September October]\n"
     ]
    },
    {
     "data": {
      "text/plain": [
       "37 <nil>"
      ]
     },
     "execution_count": 9,
     "metadata": {},
     "output_type": "execute_result"
    }
   ],
   "source": [
    "fmt.Println(summer[:5])"
   ]
  },
  {
   "cell_type": "code",
   "execution_count": 3,
   "metadata": {},
   "outputs": [
    {
     "name": "stdout",
     "output_type": "stream",
     "text": [
      "IBM.:111\n",
      "0 5\n"
     ]
    },
    {
     "data": {
      "text/plain": [
       "4 <nil>"
      ]
     },
     "execution_count": 3,
     "metadata": {},
     "output_type": "execute_result"
    }
   ],
   "source": [
    "import (\n",
    "    \"fmt\"\n",
    "    \"strings\"\n",
    ")\n",
    "\n",
    "fmt.Println(strings.Map(func(r rune) rune {return r+1}, \"HAL-9000\"))\n",
    "fmt.Println(5/64, 5%64)"
   ]
  },
  {
   "cell_type": "code",
   "execution_count": 4,
   "metadata": {},
   "outputs": [
    {
     "name": "stdout",
     "output_type": "stream",
     "text": [
      "0\n",
      "2\n",
      "4\n",
      "6\n",
      "8\n"
     ]
    }
   ],
   "source": [
    "import \"fmt\"\n",
    "\n",
    "ch := make(chan int, 1)\n",
    "for i:=0; i<10; i++ {\n",
    "    select {\n",
    "    case x:= <-ch:\n",
    "        fmt.Println(x)\n",
    "    case ch <- i:\n",
    "        //\n",
    "    }\n",
    "} \n"
   ]
  },
  {
   "cell_type": "code",
   "execution_count": 5,
   "metadata": {},
   "outputs": [
    {
     "name": "stdout",
     "output_type": "stream",
     "text": [
      "[3]int\n",
      "[]int\n",
      "[]int\n"
     ]
    },
    {
     "data": {
      "text/plain": [
       "6 <nil>"
      ]
     },
     "execution_count": 5,
     "metadata": {},
     "output_type": "execute_result"
    }
   ],
   "source": [
    "import (\n",
    "    \"fmt\"\n",
    "    \"reflect\"\n",
    ")\n",
    "\n",
    "var a = [3]int{1,2,3}\n",
    "var b = []int{}\n",
    "fmt.Println(reflect.TypeOf(a))\n",
    "fmt.Println(reflect.TypeOf(b))\n",
    "fmt.Println(reflect.TypeOf(a[1:]))"
   ]
  },
  {
   "cell_type": "code",
   "execution_count": null,
   "metadata": {},
   "outputs": [],
   "source": []
  }
 ],
 "metadata": {
  "kernelspec": {
   "display_name": "Go",
   "language": "go",
   "name": "gophernotes"
  },
  "language_info": {
   "codemirror_mode": "",
   "file_extension": ".go",
   "mimetype": "",
   "name": "go",
   "nbconvert_exporter": "",
   "pygments_lexer": "",
   "version": "go1.11.4"
  }
 },
 "nbformat": 4,
 "nbformat_minor": 2
}
